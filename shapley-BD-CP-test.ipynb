{
 "cells": [
  {
   "cell_type": "code",
   "execution_count": 11,
   "metadata": {},
   "outputs": [],
   "source": [
    "import pandas as pd\n",
    "import numpy as np\n",
    "import matplotlib.pyplot as plt\n",
    "import keras\n",
    "import tensorflow as tf\n",
    "import seaborn as sns\n",
    "import dalex as dx\n",
    "import random\n",
    "\n",
    "from sklearn.preprocessing import MinMaxScaler\n",
    "from sklearn.naive_bayes import GaussianNB\n",
    "from sklearn.linear_model import LogisticRegression\n",
    "from sklearn.neighbors import KNeighborsClassifier, RadiusNeighborsClassifier\n",
    "from sklearn.ensemble import RandomForestClassifier\n",
    "from sklearn.tree import DecisionTreeClassifier\n",
    "from sklearn.svm import SVC\n",
    "\n",
    "from sklearn.model_selection import train_test_split, RandomizedSearchCV, RepeatedStratifiedKFold\n",
    "from sklearn.metrics import f1_score, roc_auc_score, precision_score, recall_score\n",
    "from sklearn.feature_selection import RFECV\n",
    "\n",
    "from keras.models import Sequential\n",
    "from keras.layers import Dense\n",
    "from keras.utils import to_categorical \n",
    "\n",
    "from statsmodels.tools.tools import add_constant\n",
    "\n",
    "from matplotlib import style\n",
    "\n",
    "plt.style.use('dark_background')\n",
    "plt.rcParams['axes.prop_cycle'] = plt.cycler(color=['red'])"
   ]
  },
  {
   "cell_type": "code",
   "execution_count": 3,
   "metadata": {},
   "outputs": [],
   "source": [
    "df = pd.read_csv('./BankChurners.csv')\n",
    "df.drop(columns=['Naive_Bayes_Classifier_Attrition_Flag_Card_Category_Contacts_Count_12_mon_Dependent_count_Education_Level_Months_Inactive_12_mon_1', 'Naive_Bayes_Classifier_Attrition_Flag_Card_Category_Contacts_Count_12_mon_Dependent_count_Education_Level_Months_Inactive_12_mon_2'], inplace=True)\n",
    "\n",
    "#Preparing data\n",
    "\n",
    "df['Attrition_Flag'].mask(df['Attrition_Flag'] == 'Existing Customer', 1, inplace=True)\n",
    "df['Attrition_Flag'].mask(df['Attrition_Flag'] == 'Attrited Customer', 0, inplace=True)\n",
    "df['Gender'].mask(df['Gender'] == 'M', 1, inplace=True)\n",
    "df['Gender'].mask(df['Gender'] == 'F', 0, inplace=True)\n",
    "\n",
    "#Sort education from the lowest level to the highest\n",
    "\n",
    "df['Education_Level'].mask(df['Education_Level'] == 'Unknown', 0, inplace=True)\n",
    "df['Education_Level'].mask(df['Education_Level'] == 'Uneducated', -3, inplace=True)\n",
    "df['Education_Level'].mask(df['Education_Level'] == 'High School', -2, inplace=True)\n",
    "df['Education_Level'].mask(df['Education_Level'] == 'College', -1, inplace=True)\n",
    "df['Education_Level'].mask(df['Education_Level'] == 'Graduate', 1, inplace=True)\n",
    "df['Education_Level'].mask(df['Education_Level'] == 'Post-Graduate', 2, inplace=True)\n",
    "df['Education_Level'].mask(df['Education_Level'] == 'Doctorate', 3, inplace=True)\n",
    "\n",
    "#marital status (decided to add binary variables)\n",
    "\n",
    "df['Marital_Status_Married'] = (df['Marital_Status'] == 'Married').astype(int)\n",
    "df['Marital_Status_Single'] = (df['Marital_Status'] == 'Single').astype(int)\n",
    "df['Marital_Status_Divorced'] = (df['Marital_Status'] == 'Divorced').astype(int)\n",
    "df = df[df['Marital_Status'] != 'Unknown']\n",
    "\n",
    "#card category values can be sorted from the worst to the best\n",
    "\n",
    "df['Card_Category'].mask(df['Card_Category'] == 'Blue', 0, inplace=True)\n",
    "df['Card_Category'].mask(df['Card_Category'] == 'Silver', 1, inplace=True)\n",
    "df['Card_Category'].mask(df['Card_Category'] == 'Gold', 2, inplace=True)\n",
    "df['Card_Category'].mask(df['Card_Category'] == 'Platinum', 3, inplace=True)\n",
    "\n",
    "#binary variables for income level\n",
    "\n",
    "df['Income_Category_less40'] = (df['Income_Category'] == 'Less than $40K').astype(int)\n",
    "df['Income_Category_40-60'] = (df['Income_Category'] == '$40K - $60K').astype(int)\n",
    "df['Income_Category_60-80'] = (df['Income_Category'] == '$60K - $80K').astype(int)\n",
    "df['Income_Category_80-120'] = (df['Income_Category'] == '$80K - $120K').astype(int)\n",
    "df['Income_Category_120+'] = (df['Income_Category'] == '$120K +').astype(int)\n",
    "df = df[df['Income_Category'] != 'Unknown']"
   ]
  },
  {
   "cell_type": "code",
   "execution_count": 4,
   "metadata": {},
   "outputs": [],
   "source": [
    "X = df.drop(columns=['CLIENTNUM', 'Marital_Status', 'Income_Category', 'Attrition_Flag'])\n",
    "y = df['Attrition_Flag'].astype('int')\n",
    "\n",
    "#splitting into train and test sets\n",
    "\n",
    "idx_train, idx_test = train_test_split(X.index, stratify=y, random_state=999)\n",
    "\n",
    "X_train, X_test = X.loc[idx_train], X.loc[idx_test]\n",
    "y_train, y_test = y[idx_train], y[idx_test]"
   ]
  },
  {
   "cell_type": "code",
   "execution_count": 35,
   "metadata": {},
   "outputs": [
    {
     "name": "stdout",
     "output_type": "stream",
     "text": [
      "Preparation of a new explainer is initiated\n",
      "\n",
      "  -> data              : 6261 rows 25 cols\n",
      "  -> target variable   : Parameter 'y' was a pandas.Series. Converted to a numpy.ndarray.\n",
      "  -> target variable   : 6261 values\n",
      "  -> model_class       : sklearn.ensemble._forest.RandomForestClassifier (default)\n",
      "  -> label             : RandomForest Pipeline\n",
      "  -> predict function  : <function yhat_proba_default at 0x0000022A19C8D000> will be used (default)\n",
      "  -> predict function  : Accepts pandas.DataFrame and numpy.ndarray.\n",
      "  -> predicted values  : min = 0.242, mean = 0.841, max = 0.971\n",
      "  -> model type        : classification will be used (default)\n",
      "  -> residual function : difference between y and yhat (default)\n",
      "  -> residuals         : min = -0.931, mean = 0.000238, max = 0.641\n",
      "  -> model_info        : package sklearn\n",
      "\n",
      "A new explainer has been created!\n"
     ]
    },
    {
     "name": "stderr",
     "output_type": "stream",
     "text": [
      "c:\\Users\\pc\\AppData\\Local\\Programs\\Python\\Python310\\lib\\site-packages\\sklearn\\base.py:420: UserWarning:\n",
      "\n",
      "X does not have valid feature names, but RandomForestClassifier was fitted with feature names\n",
      "\n"
     ]
    }
   ],
   "source": [
    "rfc = RandomForestClassifier(max_depth=3, min_samples_split=5, min_samples_leaf=15, max_leaf_nodes=11).fit(X_train, y_train)\n",
    "\n",
    "rfc_exp = dx.Explainer(rfc, X_train, y_train, label='RandomForest Pipeline')\n",
    "\n",
    "single_datapoint = add_constant(X_train.sample())"
   ]
  },
  {
   "cell_type": "code",
   "execution_count": 33,
   "metadata": {},
   "outputs": [
    {
     "data": {
      "text/html": [
       "<div>\n",
       "<style scoped>\n",
       "    .dataframe tbody tr th:only-of-type {\n",
       "        vertical-align: middle;\n",
       "    }\n",
       "\n",
       "    .dataframe tbody tr th {\n",
       "        vertical-align: top;\n",
       "    }\n",
       "\n",
       "    .dataframe thead th {\n",
       "        text-align: right;\n",
       "    }\n",
       "</style>\n",
       "<table border=\"1\" class=\"dataframe\">\n",
       "  <thead>\n",
       "    <tr style=\"text-align: right;\">\n",
       "      <th></th>\n",
       "      <th>variable</th>\n",
       "      <th>contribution</th>\n",
       "      <th>variable_name</th>\n",
       "      <th>variable_value</th>\n",
       "      <th>sign</th>\n",
       "      <th>label</th>\n",
       "      <th>B</th>\n",
       "    </tr>\n",
       "  </thead>\n",
       "  <tbody>\n",
       "    <tr>\n",
       "      <th>0</th>\n",
       "      <td>Total_Ct_Chng_Q4_Q1 = 0.706</td>\n",
       "      <td>0.016037</td>\n",
       "      <td>Total_Ct_Chng_Q4_Q1</td>\n",
       "      <td>0.706</td>\n",
       "      <td>1.0</td>\n",
       "      <td>RandomForest Pipeline</td>\n",
       "      <td>1</td>\n",
       "    </tr>\n",
       "    <tr>\n",
       "      <th>1</th>\n",
       "      <td>Credit_Limit = 4060.0</td>\n",
       "      <td>-0.011343</td>\n",
       "      <td>Credit_Limit</td>\n",
       "      <td>4060.0</td>\n",
       "      <td>-1.0</td>\n",
       "      <td>RandomForest Pipeline</td>\n",
       "      <td>1</td>\n",
       "    </tr>\n",
       "    <tr>\n",
       "      <th>2</th>\n",
       "      <td>Months_on_book = 34.0</td>\n",
       "      <td>0.000676</td>\n",
       "      <td>Months_on_book</td>\n",
       "      <td>34</td>\n",
       "      <td>1.0</td>\n",
       "      <td>RandomForest Pipeline</td>\n",
       "      <td>1</td>\n",
       "    </tr>\n",
       "    <tr>\n",
       "      <th>3</th>\n",
       "      <td>Marital_Status_Married = 1.0</td>\n",
       "      <td>0.001552</td>\n",
       "      <td>Marital_Status_Married</td>\n",
       "      <td>1</td>\n",
       "      <td>1.0</td>\n",
       "      <td>RandomForest Pipeline</td>\n",
       "      <td>1</td>\n",
       "    </tr>\n",
       "    <tr>\n",
       "      <th>4</th>\n",
       "      <td>Contacts_Count_12_mon = 2.0</td>\n",
       "      <td>0.005426</td>\n",
       "      <td>Contacts_Count_12_mon</td>\n",
       "      <td>2</td>\n",
       "      <td>1.0</td>\n",
       "      <td>RandomForest Pipeline</td>\n",
       "      <td>1</td>\n",
       "    </tr>\n",
       "    <tr>\n",
       "      <th>...</th>\n",
       "      <td>...</td>\n",
       "      <td>...</td>\n",
       "      <td>...</td>\n",
       "      <td>...</td>\n",
       "      <td>...</td>\n",
       "      <td>...</td>\n",
       "      <td>...</td>\n",
       "    </tr>\n",
       "    <tr>\n",
       "      <th>20</th>\n",
       "      <td>Income_Category_40-60 = 0.0</td>\n",
       "      <td>0.000329</td>\n",
       "      <td>Income_Category_40-60</td>\n",
       "      <td>0</td>\n",
       "      <td>1.0</td>\n",
       "      <td>RandomForest Pipeline</td>\n",
       "      <td>0</td>\n",
       "    </tr>\n",
       "    <tr>\n",
       "      <th>21</th>\n",
       "      <td>Income_Category_60-80 = 0.0</td>\n",
       "      <td>0.000320</td>\n",
       "      <td>Income_Category_60-80</td>\n",
       "      <td>0</td>\n",
       "      <td>1.0</td>\n",
       "      <td>RandomForest Pipeline</td>\n",
       "      <td>0</td>\n",
       "    </tr>\n",
       "    <tr>\n",
       "      <th>22</th>\n",
       "      <td>Income_Category_80-120 = 0.0</td>\n",
       "      <td>0.000203</td>\n",
       "      <td>Income_Category_80-120</td>\n",
       "      <td>0</td>\n",
       "      <td>1.0</td>\n",
       "      <td>RandomForest Pipeline</td>\n",
       "      <td>0</td>\n",
       "    </tr>\n",
       "    <tr>\n",
       "      <th>23</th>\n",
       "      <td>Customer_Age = 50.0</td>\n",
       "      <td>-0.000128</td>\n",
       "      <td>Customer_Age</td>\n",
       "      <td>50</td>\n",
       "      <td>-1.0</td>\n",
       "      <td>RandomForest Pipeline</td>\n",
       "      <td>0</td>\n",
       "    </tr>\n",
       "    <tr>\n",
       "      <th>24</th>\n",
       "      <td>Income_Category_120+ = 0.0</td>\n",
       "      <td>0.000073</td>\n",
       "      <td>Income_Category_120+</td>\n",
       "      <td>0</td>\n",
       "      <td>1.0</td>\n",
       "      <td>RandomForest Pipeline</td>\n",
       "      <td>0</td>\n",
       "    </tr>\n",
       "  </tbody>\n",
       "</table>\n",
       "<p>650 rows × 7 columns</p>\n",
       "</div>"
      ],
      "text/plain": [
       "                        variable  contribution           variable_name  \\\n",
       "0    Total_Ct_Chng_Q4_Q1 = 0.706      0.016037     Total_Ct_Chng_Q4_Q1   \n",
       "1          Credit_Limit = 4060.0     -0.011343            Credit_Limit   \n",
       "2          Months_on_book = 34.0      0.000676          Months_on_book   \n",
       "3   Marital_Status_Married = 1.0      0.001552  Marital_Status_Married   \n",
       "4    Contacts_Count_12_mon = 2.0      0.005426   Contacts_Count_12_mon   \n",
       "..                           ...           ...                     ...   \n",
       "20   Income_Category_40-60 = 0.0      0.000329   Income_Category_40-60   \n",
       "21   Income_Category_60-80 = 0.0      0.000320   Income_Category_60-80   \n",
       "22  Income_Category_80-120 = 0.0      0.000203  Income_Category_80-120   \n",
       "23           Customer_Age = 50.0     -0.000128            Customer_Age   \n",
       "24    Income_Category_120+ = 0.0      0.000073    Income_Category_120+   \n",
       "\n",
       "   variable_value  sign                  label  B  \n",
       "0           0.706   1.0  RandomForest Pipeline  1  \n",
       "1          4060.0  -1.0  RandomForest Pipeline  1  \n",
       "2              34   1.0  RandomForest Pipeline  1  \n",
       "3               1   1.0  RandomForest Pipeline  1  \n",
       "4               2   1.0  RandomForest Pipeline  1  \n",
       "..            ...   ...                    ... ..  \n",
       "20              0   1.0  RandomForest Pipeline  0  \n",
       "21              0   1.0  RandomForest Pipeline  0  \n",
       "22              0   1.0  RandomForest Pipeline  0  \n",
       "23             50  -1.0  RandomForest Pipeline  0  \n",
       "24              0   1.0  RandomForest Pipeline  0  \n",
       "\n",
       "[650 rows x 7 columns]"
      ]
     },
     "execution_count": 33,
     "metadata": {},
     "output_type": "execute_result"
    }
   ],
   "source": [
    "shap_single_datapoint = rfc_exp.predict_parts(single_datapoint, type = 'shap')\n"
   ]
  },
  {
   "cell_type": "code",
   "execution_count": 36,
   "metadata": {},
   "outputs": [
    {
     "data": {
      "application/vnd.plotly.v1+json": {
       "config": {
        "displaylogo": false,
        "modeBarButtonsToRemove": [
         "sendDataToCloud",
         "lasso2d",
         "autoScale2d",
         "select2d",
         "zoom2d",
         "pan2d",
         "zoomIn2d",
         "zoomOut2d",
         "resetScale2d",
         "toggleSpikelines",
         "hoverCompareCartesian",
         "hoverClosestCartesian"
        ],
        "plotlyServerURL": "https://plot.ly",
        "staticPlot": false,
        "toImageButtonOptions": {
         "height": null,
         "width": null
        }
       },
       "data": [
        {
         "base": 0.8419900974285258,
         "hoverinfo": "text",
         "hoverlabel": {
          "bgcolor": "rgba(0,0,0,0.8)"
         },
         "hovertext": [
          "Average response: 0.842<br>Prediction: 1.0<br>Total_Trans_Ct = 87.0<br>increases average response <br>by 0.127",
          "Average response: 0.842<br>Prediction: 1.0<br>Total_Relationship_Count = 2.0<br>decreases average response <br>by 0.04",
          "Average response: 0.842<br>Prediction: 1.0<br>Total_Revolving_Bal = 2336.0<br>increases average response <br>by 0.033",
          "Average response: 0.842<br>Prediction: 1.0<br>Total_Ct_Chng_Q4_Q1 = 0.706<br>increases average response <br>by 0.02",
          "Average response: 0.842<br>Prediction: 1.0<br>Avg_Open_To_Buy = 1724.0<br>increases average response <br>by 0.014",
          "Average response: 0.842<br>Prediction: 1.0<br>Total_Amt_Chng_Q4_Q1 = 0.943<br>decreases average response <br>by 0.009",
          "Average response: 0.842<br>Prediction: 1.0<br>Credit_Limit = 4060.0<br>decreases average response <br>by 0.008",
          "Average response: 0.842<br>Prediction: 1.0<br>Months_Inactive_12_mon = 2.0<br>increases average response <br>by 0.005",
          "Average response: 0.842<br>Prediction: 1.0<br>Contacts_Count_12_mon = 2.0<br>increases average response <br>by 0.004",
          "Average response: 0.842<br>Prediction: 1.0<br>+ all other factors<br>increases average response <br>by 0.011"
         ],
         "marker": {
          "color": [
           "#8bdcbe",
           "#f05a71",
           "#8bdcbe",
           "#8bdcbe",
           "#8bdcbe",
           "#f05a71",
           "#f05a71",
           "#8bdcbe",
           "#8bdcbe",
           "#8bdcbe"
          ]
         },
         "orientation": "h",
         "showlegend": false,
         "text": [
          "+0.127",
          "-0.04",
          "+0.033",
          "+0.02",
          "+0.014",
          "-0.009",
          "-0.008",
          "+0.005",
          "+0.004",
          "+0.011"
         ],
         "textposition": "outside",
         "type": "bar",
         "x": [
          0.127,
          -0.04,
          0.033,
          0.02,
          0.014,
          -0.009,
          -0.008,
          0.005,
          0.004,
          0.011
         ],
         "xaxis": "x",
         "y": [
          "Total_Trans_Ct = 87.0",
          "Total_Relationship_Count = 2.0",
          "Total_Revolving_Bal = 2336.0",
          "Total_Ct_Chng_Q4_Q1 = 0.706",
          "Avg_Open_To_Buy = 1724.0",
          "Total_Amt_Chng_Q4_Q1 = 0.943",
          "Credit_Limit = 4060.0",
          "Months_Inactive_12_mon = 2.0",
          "Contacts_Count_12_mon = 2.0",
          "+ all other factors"
         ],
         "yaxis": "y"
        }
       ],
       "layout": {
        "annotations": [
         {
          "font": {
           "size": 16
          },
          "showarrow": false,
          "text": "RandomForest Pipeline",
          "x": 0.5,
          "xanchor": "center",
          "xref": "paper",
          "y": 1,
          "yanchor": "bottom",
          "yref": "paper"
         },
         {
          "font": {
           "size": 16
          },
          "showarrow": false,
          "text": "contribution",
          "x": 0.5,
          "xanchor": "center",
          "xref": "paper",
          "y": 0,
          "yanchor": "top",
          "yref": "paper",
          "yshift": -30
         }
        ],
        "font": {
         "color": "#371ea3"
        },
        "height": 373,
        "margin": {
         "b": 71,
         "r": 30,
         "t": 78
        },
        "shapes": [
         {
          "line": {
           "color": "#371ea3",
           "dash": "dot",
           "width": 1.5
          },
          "type": "line",
          "x0": 0.8419900974285258,
          "x1": 0.8419900974285258,
          "xref": "x",
          "y0": -1,
          "y1": 11,
          "yref": "y"
         }
        ],
        "template": {
         "data": {
          "scatter": [
           {
            "type": "scatter"
           }
          ]
         }
        },
        "title": {
         "text": "Shapley Values",
         "x": 0.15
        },
        "xaxis": {
         "anchor": "y",
         "automargin": true,
         "domain": [
          0,
          1
         ],
         "fixedrange": true,
         "gridwidth": 2,
         "range": [
          0.7769400974285258,
          0.9940400974285258
         ],
         "tickcolor": "white",
         "ticklen": 3,
         "ticks": "outside",
         "type": "linear",
         "zeroline": false
        },
        "yaxis": {
         "anchor": "x",
         "automargin": true,
         "autorange": "reversed",
         "domain": [
          0,
          1
         ],
         "fixedrange": true,
         "gridwidth": 2,
         "tickcolor": "white",
         "ticklen": 10,
         "ticks": "outside",
         "type": "category"
        }
       }
      }
     },
     "metadata": {},
     "output_type": "display_data"
    }
   ],
   "source": [
    "shap_single_datapoint.plot()"
   ]
  },
  {
   "cell_type": "code",
   "execution_count": 38,
   "metadata": {},
   "outputs": [
    {
     "data": {
      "application/vnd.plotly.v1+json": {
       "config": {
        "displaylogo": false,
        "modeBarButtonsToRemove": [
         "sendDataToCloud",
         "lasso2d",
         "autoScale2d",
         "select2d",
         "zoom2d",
         "pan2d",
         "zoomIn2d",
         "zoomOut2d",
         "resetScale2d",
         "toggleSpikelines",
         "hoverCompareCartesian",
         "hoverClosestCartesian"
        ],
        "plotlyServerURL": "https://plot.ly",
        "staticPlot": false,
        "toImageButtonOptions": {
         "height": null,
         "width": null
        }
       },
       "data": [
        {
         "base": 0.8406823019450727,
         "connector": {
          "line": {
           "color": "#371ea3",
           "dash": "solid",
           "width": 1
          },
          "mode": "spanning"
         },
         "decreasing": {
          "marker": {
           "color": "#f05a71"
          }
         },
         "hoverinfo": "text+delta",
         "hoverlabel": {
          "bgcolor": "rgba(0,0,0,0.8)"
         },
         "hovertext": [
          "Average response: 0.841<br>Prediction: 0.734",
          "Total_Trans_Ct = 42.0<br>decreases average response by",
          "Total_Relationship_Count = 3.0<br>increases average response by",
          "Total_Revolving_Bal = 1893.0<br>increases average response by",
          "Total_Ct_Chng_Q4_Q1 = 0.355<br>decreases average response by",
          "Avg_Open_To_Buy = 2341.0<br>decreases average response by",
          "Total_Amt_Chng_Q4_Q1 = 0.585<br>increases average response by",
          "Credit_Limit = 4234.0<br>increases average response by",
          "Months_Inactive_12_mon = 2.0<br>decreases average response by",
          "Contacts_Count_12_mon = 2.0<br>increases average response by",
          "Average response: 0.841<br>Prediction: 0.734"
         ],
         "increasing": {
          "marker": {
           "color": "#8bdcbe"
          }
         },
         "measure": [
          "relative",
          "relative",
          "relative",
          "relative",
          "relative",
          "relative",
          "relative",
          "relative",
          "relative",
          "relative",
          "total"
         ],
         "orientation": "h",
         "showlegend": false,
         "text": [
          "0.841",
          "-0.087",
          "+0.001",
          "+0.033",
          "-0.11",
          "-0.002",
          "+0.001",
          "+0.004",
          "-0.006",
          "+0.001",
          "0.734"
         ],
         "textposition": "outside",
         "totals": {
          "marker": {
           "color": "#371ea3"
          }
         },
         "type": "waterfall",
         "x": [
          0,
          -0.087,
          0.001,
          0.033,
          -0.11,
          -0.002,
          0.001,
          0.004,
          -0.006,
          0.001,
          -0.107
         ],
         "xaxis": "x",
         "y": [
          "intercept",
          "Total_Trans_Ct = 42.0",
          "Total_Relationship_Count = 3.0",
          "Total_Revolving_Bal = 1893.0",
          "Total_Ct_Chng_Q4_Q1 = 0.355",
          "Avg_Open_To_Buy = 2341.0",
          "Total_Amt_Chng_Q4_Q1 = 0.585",
          "Credit_Limit = 4234.0",
          "Months_Inactive_12_mon = 2.0",
          "Contacts_Count_12_mon = 2.0",
          "prediction"
         ],
         "yaxis": "y"
        }
       ],
       "layout": {
        "annotations": [
         {
          "font": {
           "size": 16
          },
          "showarrow": false,
          "text": "RandomForest Pipeline",
          "x": 0.5,
          "xanchor": "center",
          "xref": "paper",
          "y": 1,
          "yanchor": "bottom",
          "yref": "paper"
         },
         {
          "font": {
           "size": 16
          },
          "showarrow": false,
          "text": "contribution",
          "x": 0.5,
          "xanchor": "center",
          "xref": "paper",
          "y": 0,
          "yanchor": "top",
          "yref": "paper",
          "yshift": -30
         }
        ],
        "font": {
         "color": "#371ea3"
        },
        "height": 373,
        "margin": {
         "b": 71,
         "r": 30,
         "t": 78
        },
        "shapes": [
         {
          "line": {
           "color": "#371ea3",
           "dash": "dot",
           "width": 1.5
          },
          "type": "line",
          "x0": 0.8406823019450727,
          "x1": 0.8406823019450727,
          "xref": "x",
          "y0": -1,
          "y1": 11,
          "yref": "y"
         }
        ],
        "template": {
         "data": {
          "scatter": [
           {
            "type": "scatter"
           }
          ]
         }
        },
        "title": {
         "text": "Break Down",
         "x": 0.15
        },
        "xaxis": {
         "anchor": "y",
         "automargin": true,
         "domain": [
          0,
          1
         ],
         "fixedrange": true,
         "gridwidth": 2,
         "range": [
          0.6512500000000001,
          0.8657499999999999
         ],
         "tickcolor": "white",
         "ticklen": 3,
         "ticks": "outside",
         "type": "linear",
         "zeroline": false
        },
        "yaxis": {
         "anchor": "x",
         "automargin": true,
         "autorange": "reversed",
         "domain": [
          0,
          1
         ],
         "fixedrange": true,
         "gridwidth": 2,
         "tickcolor": "white",
         "ticklen": 10,
         "ticks": "outside",
         "type": "category"
        }
       }
      }
     },
     "metadata": {},
     "output_type": "display_data"
    }
   ],
   "source": [
    "bd_single_datapoint = rfc_exp.predict_parts(single_datapoint, type = 'break_down', \n",
    "                                            order=np.array(['Total_Trans_Ct', 'Total_Relationship_Count', 'Total_Revolving_Bal',\n",
    "                                                            'Total_Ct_Chng_Q4_Q1', 'Avg_Open_To_Buy', 'Total_Amt_Chng_Q4_Q1',\n",
    "                                                            'Credit_Limit', 'Months_Inactive_12_mon', 'Contacts_Count_12_mon']))\n",
    "bd_single_datapoint.plot(max_vars=10)"
   ]
  },
  {
   "cell_type": "code",
   "execution_count": null,
   "metadata": {},
   "outputs": [],
   "source": []
  }
 ],
 "metadata": {
  "kernelspec": {
   "display_name": "Python 3",
   "language": "python",
   "name": "python3"
  },
  "language_info": {
   "codemirror_mode": {
    "name": "ipython",
    "version": 3
   },
   "file_extension": ".py",
   "mimetype": "text/x-python",
   "name": "python",
   "nbconvert_exporter": "python",
   "pygments_lexer": "ipython3",
   "version": "3.10.4"
  },
  "orig_nbformat": 4
 },
 "nbformat": 4,
 "nbformat_minor": 2
}
